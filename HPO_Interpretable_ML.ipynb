{
  "nbformat": 4,
  "nbformat_minor": 0,
  "metadata": {
    "colab": {
      "name": "HPO Interpretable ML.ipynb",
      "provenance": [],
      "collapsed_sections": [],
      "authorship_tag": "ABX9TyOpOQvwGYXC6XWBHrBEo9aP",
      "include_colab_link": true
    },
    "kernelspec": {
      "name": "python3",
      "display_name": "Python 3"
    },
    "language_info": {
      "name": "python"
    }
  },
  "cells": [
    {
      "cell_type": "markdown",
      "metadata": {
        "id": "view-in-github",
        "colab_type": "text"
      },
      "source": [
        "<a href=\"https://colab.research.google.com/github/K02D/Interpretable_HPO/blob/main/HPO_Interpretable_ML.ipynb\" target=\"_parent\"><img src=\"https://colab.research.google.com/assets/colab-badge.svg\" alt=\"Open In Colab\"/></a>"
      ]
    },
    {
      "cell_type": "code",
      "metadata": {
        "id": "_uPxMx3RgAzJ"
      },
      "source": [
        "from sklearn import linear_model\n",
        "import numpy as np\n",
        "from sklearn.model_selection import train_test_split \n",
        "import pandas as pd\n",
        "import matplotlib.pyplot as plt\n",
        "import sklearn.metrics as metrics"
      ],
      "execution_count": null,
      "outputs": []
    },
    {
      "cell_type": "code",
      "metadata": {
        "id": "rkWKWeEngIOb"
      },
      "source": [
        "# Read data from NMT models trained on an English-to-Japanese corpus\n",
        "hyp_data = pd.read_csv('en-ja.hyps_scaled', delimiter=\"\\t\")\n",
        "eval_data = pd.read_csv('en-ja.evals', delimiter=\"\\t\")"
      ],
      "execution_count": null,
      "outputs": []
    },
    {
      "cell_type": "code",
      "metadata": {
        "id": "txdlD_QggKb7"
      },
      "source": [
        "# Select scaled hyperparameter configurations as the input features\n",
        "X = hyp_data\n",
        "\n",
        "# Select first column of evaluation data, having dev_bleu values, as the target\n",
        "y = eval_data[eval_data.columns[0]]"
      ],
      "execution_count": null,
      "outputs": []
    },
    {
      "cell_type": "code",
      "metadata": {
        "colab": {
          "base_uri": "https://localhost:8080/"
        },
        "id": "sgXXwp8hgl6V",
        "outputId": "dc0d5c56-c280-45a6-9061-8001f0cc95fa"
      },
      "source": [
        "# Check if number of rows is the same in target and input data\n",
        "print(X)\n",
        "print(y)"
      ],
      "execution_count": null,
      "outputs": [
        {
          "output_type": "stream",
          "text": [
            "     0.5  0.0  0.5.1  0.0.1  0.0.2  0.0.3\n",
            "0    0.0  1.0    0.0    1.0    1.0  1.000\n",
            "1    0.0  0.0    0.5    0.0    1.0  0.429\n",
            "2    0.0  1.0    0.0    0.0    0.0  0.000\n",
            "3    0.5  1.0    0.0    0.0    1.0  1.000\n",
            "4    0.0  1.0    0.5    1.0    1.0  0.429\n",
            "..   ...  ...    ...    ...    ...    ...\n",
            "162  1.0  1.0    0.0    0.0    0.0  1.000\n",
            "163  0.5  0.0    1.0    0.0    0.0  0.000\n",
            "164  0.0  1.0    0.5    0.0    0.0  1.000\n",
            "165  1.0  0.0    0.0    1.0    0.0  1.000\n",
            "166  0.0  1.0    0.5    0.0    0.0  0.429\n",
            "\n",
            "[167 rows x 6 columns]\n",
            "0      18.18\n",
            "1      17.50\n",
            "2      18.42\n",
            "3      18.16\n",
            "4      20.08\n",
            "       ...  \n",
            "162    17.95\n",
            "163    18.43\n",
            "164     8.13\n",
            "165    16.71\n",
            "166    19.20\n",
            "Name: 18.2, Length: 167, dtype: float64\n"
          ],
          "name": "stdout"
        }
      ]
    },
    {
      "cell_type": "code",
      "metadata": {
        "id": "Xz_UluMEgNUA"
      },
      "source": [
        "# Split randomly into training and validation sets: 80% training, 20% validation \n",
        "train_X, val_X, train_y, val_y = train_test_split(X, y, train_size=0.8, test_size=0.2, random_state=1) "
      ],
      "execution_count": null,
      "outputs": []
    },
    {
      "cell_type": "code",
      "metadata": {
        "id": "Icat0FcpgPMK"
      },
      "source": [
        "# Fit multiple linear regression model on training data\n",
        "reg = linear_model.LinearRegression()\n",
        "reg.fit(train_X, train_y)\n",
        "\n",
        "# Generate predictions on validation input data\n",
        "pred_y = reg.predict(val_X) "
      ],
      "execution_count": null,
      "outputs": []
    },
    {
      "cell_type": "code",
      "metadata": {
        "colab": {
          "base_uri": "https://localhost:8080/",
          "height": 283
        },
        "id": "N-dzEt54gRBQ",
        "outputId": "effd98fd-6025-4a07-b4b1-71d39ea67645"
      },
      "source": [
        " # Plot model predicted values (x-axis) against ground truth values (y-axis)\n",
        "plt.scatter(pred_y, val_y, color ='b')\n",
        "\n",
        "# Plot line y = x \n",
        "def graph(formula, x_range):  \n",
        "    x = np.array(x_range)  \n",
        "    y = formula(x) \n",
        "    plt.plot(x, y)  \n",
        "graph(lambda x: x, range(8, 25))\n",
        "\n",
        "plt.xlabel(\"Predicted values\")\n",
        "plt.ylabel(\"True values\")\n",
        "plt.show()"
      ],
      "execution_count": null,
      "outputs": [
        {
          "output_type": "display_data",
          "data": {
            "image/png": "[encoded data removed]",
            "text/plain": [
              "<Figure size 432x288 with 1 Axes>"
            ]
          },
          "metadata": {
            "tags": [],
            "needs_background": "light"
          }
        }
      ]
    },
    {
      "cell_type": "markdown",
      "metadata": {
        "id": "PZH4CACmakXv"
      },
      "source": [
        "The graph does NOT show the linear model that was fitted; rather, it provides a \n",
        "visualization of how close the predicted *dev_bleu* values are to the actual *dev_bleu* values.\n",
        "The closer the points to the plotted line y=x, the better the model."
      ]
    },
    {
      "cell_type": "code",
      "metadata": {
        "colab": {
          "base_uri": "https://localhost:8080/"
        },
        "id": "s4F83MYhO5N5",
        "outputId": "257f6c85-4e44-4bc8-9dbf-c8662537e2fe"
      },
      "source": [
        "mse = metrics.mean_squared_error(val_y, pred_y)\n",
        "rmse = metrics.mean_squared_error(val_y, pred_y, squared=False)\n",
        "mae = metrics.mean_absolute_error(val_y, pred_y)\n",
        "\n",
        "print(f\"Mean Squared Error: {mse}\")\n",
        "print(f\"Root Mean Squared Error: {rmse}\")\n",
        "print(f\"Mean Absolute Error: {mae}\")"
      ],
      "execution_count": null,
      "outputs": [
        {
          "output_type": "stream",
          "text": [
            "Mean Squared Error: 18.882329743489677\n",
            "Root Mean Squared Error: 4.34538027605061\n",
            "Mean Absolute Error: 3.70614425810706\n"
          ],
          "name": "stdout"
        }
      ]
    },
    {
      "cell_type": "code",
      "metadata": {
        "id": "_kYhykv8iwhB",
        "colab": {
          "base_uri": "https://localhost:8080/"
        },
        "outputId": "34cd322f-dc56-4fe4-d90c-3ba600070617"
      },
      "source": [
        "hyps = [\"bpe_symbols\", \"num_layers, num_embed\", \"transformer_feed_forward_num_hidden\", \n",
        "        \"transformer_attention_heads\", \"initial_learning_rate\"]\n",
        "for hyp, w in zip(hyps, reg.coef_):\n",
        "  print(f\"{hyp}: {w}\")"
      ],
      "execution_count": null,
      "outputs": [
        {
          "output_type": "stream",
          "text": [
            "bpe_symbols: -1.2609217634306695\n",
            "num_layers, num_embed: 0.5752615632434953\n",
            "transformer_feed_forward_num_hidden: -5.728354175820752\n",
            "transformer_attention_heads: 0.6158345462041624\n",
            "initial_learning_rate: -0.3822526340755604\n"
          ],
          "name": "stdout"
        }
      ]
    },
    {
      "cell_type": "code",
      "metadata": {
        "id": "obEoL3Eij7nS"
      },
      "source": [
        ""
      ],
      "execution_count": null,
      "outputs": []
    }
  ]
}