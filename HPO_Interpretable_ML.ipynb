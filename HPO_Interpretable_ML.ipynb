{
  "nbformat": 4,
  "nbformat_minor": 0,
  "metadata": {
    "colab": {
      "name": "HPO Interpretable ML.ipynb",
      "provenance": [],
      "collapsed_sections": [],
      "authorship_tag": "ABX9TyMg+5fewsyI90fzUrmKEK2f",
      "include_colab_link": true
    },
    "kernelspec": {
      "name": "python3",
      "display_name": "Python 3"
    },
    "language_info": {
      "name": "python"
    }
  },
  "cells": [
    {
      "cell_type": "markdown",
      "metadata": {
        "id": "view-in-github",
        "colab_type": "text"
      },
      "source": [
        "<a href=\"https://colab.research.google.com/github/K02D/Interpretable_HPO/blob/main/HPO_Interpretable_ML.ipynb\" target=\"_parent\"><img src=\"https://colab.research.google.com/assets/colab-badge.svg\" alt=\"Open In Colab\"/></a>"
      ]
    },
    {
      "cell_type": "code",
      "metadata": {
        "id": "_uPxMx3RgAzJ"
      },
      "source": [
        "from sklearn import linear_model\n",
        "import numpy as np\n",
        "from sklearn.model_selection import train_test_split \n",
        "import pandas as pd\n",
        "import matplotlib.pyplot as plt\n",
        "import sklearn.metrics as metrics"
      ],
      "execution_count": null,
      "outputs": []
    },
    {
      "cell_type": "code",
      "metadata": {
        "id": "rkWKWeEngIOb"
      },
      "source": [
        "# Read data from NMT models trained on an English-to-Japanese corpus\n",
        "hyp_data = pd.read_csv('en-ja.hyps_scaled', delimiter=\"\\t\")\n",
        "eval_data = pd.read_csv('en-ja.evals', delimiter=\"\\t\")"
      ],
      "execution_count": null,
      "outputs": []
    },
    {
      "cell_type": "code",
      "metadata": {
        "id": "txdlD_QggKb7"
      },
      "source": [
        "# Select scaled hyperparameter configurations as the input features\n",
        "X = hyp_data\n",
        "\n",
        "# Select first column of evaluation data, having dev_bleu values, as the target\n",
        "y = eval_data[eval_data.columns[0]]"
      ],
      "execution_count": null,
      "outputs": []
    },
    {
      "cell_type": "code",
      "metadata": {
        "id": "sgXXwp8hgl6V"
      },
      "source": [
        "# Check if number of rows is the same in target and input data\n",
        "print(X)\n",
        "print(y)"
      ],
      "execution_count": null,
      "outputs": []
    },
    {
      "cell_type": "code",
      "metadata": {
        "id": "Xz_UluMEgNUA"
      },
      "source": [
        "# Split randomly into training and validation sets: 80% training, 20% validation \n",
        "train_X, val_X, train_y, val_y = train_test_split(X, y, train_size=0.8, test_size=0.2, random_state=2) "
      ],
      "execution_count": null,
      "outputs": []
    },
    {
      "cell_type": "code",
      "metadata": {
        "id": "Icat0FcpgPMK"
      },
      "source": [
        "# Fit multiple linear regression model on training data\n",
        "reg = linear_model.LinearRegression()\n",
        "reg.fit(train_X, train_y)\n",
        "\n",
        "# Generate predictions on validation input data\n",
        "pred_y = reg.predict(val_X) "
      ],
      "execution_count": null,
      "outputs": []
    },
    {
      "cell_type": "code",
      "metadata": {
        "colab": {
          "base_uri": "https://localhost:8080/",
          "height": 283
        },
        "id": "N-dzEt54gRBQ",
        "outputId": "e59e0b0c-fe64-4ab5-b6b9-23e9abfe1872"
      },
      "source": [
        " # Plot model predicted values (x-axis) against ground truth values (y-axis)\n",
        "plt.scatter(pred_y, val_y, color ='b')\n",
        "\n",
        "# Plot line y = x \n",
        "def graph(formula, x_range):  \n",
        "    x = np.array(x_range)  \n",
        "    y = formula(x) \n",
        "    plt.plot(x, y)  \n",
        "graph(lambda x: x, range(8, 25))\n",
        "\n",
        "plt.xlabel(\"Predicted values\")\n",
        "plt.ylabel(\"True values\")\n",
        "plt.show()"
      ],
      "execution_count": null,
      "outputs": [
        {
          "output_type": "display_data",
          "data": {
            "image/png": "[encoded data removed]",
            "text/plain": [
              "<Figure size 432x288 with 1 Axes>"
            ]
          },
          "metadata": {
            "tags": [],
            "needs_background": "light"
          }
        }
      ]
    },
    {
      "cell_type": "markdown",
      "metadata": {
        "id": "PZH4CACmakXv"
      },
      "source": [
        "The graph does NOT show the linear model that was fitted; rather, it provides a \n",
        "visualization of how close the predicted *dev_bleu* values are to the actual *dev_bleu* values.\n",
        "The closer the points to the plotted line y=x, the better the model."
      ]
    },
    {
      "cell_type": "code",
      "metadata": {
        "colab": {
          "base_uri": "https://localhost:8080/"
        },
        "id": "s4F83MYhO5N5",
        "outputId": "908db9f3-396a-43ce-d61c-14184fbf63f5"
      },
      "source": [
        "mse = metrics.mean_squared_error(val_y, pred_y)\n",
        "rmse = metrics.mean_squared_error(val_y, pred_y, squared=False)\n",
        "mae = metrics.mean_absolute_error(val_y, pred_y)\n",
        "\n",
        "print(f\"Mean Squared Error: {mse}\")\n",
        "print(f\"Root Mean Squared Error: {rmse}\")\n",
        "print(f\"Mean Absolute Error: {mae}\")"
      ],
      "execution_count": null,
      "outputs": [
        {
          "output_type": "stream",
          "text": [
            "Mean Squared Error: 16.256930138128826\n",
            "Root Mean Squared Error: 4.031988360366238\n",
            "Mean Absolute Error: 2.919944822080153\n"
          ],
          "name": "stdout"
        }
      ]
    },
    {
      "cell_type": "code",
      "metadata": {
        "id": "_kYhykv8iwhB",
        "colab": {
          "base_uri": "https://localhost:8080/"
        },
        "outputId": "6d7e6a8d-f400-4a33-f4cd-101d3cbbc071"
      },
      "source": [
        "# Display weights learned by the model\n",
        "hyps = [\"bpe_symbols\", \"num_layers\", \"num_embed\", \"transformer_feed_forward_num_hidden\", \n",
        "        \"transformer_attention_heads\", \"initial_learning_rate\"]\n",
        "for hyp, w in zip(hyps, reg.coef_):\n",
        "  print(f\"{hyp}: {w}\")"
      ],
      "execution_count": null,
      "outputs": [
        {
          "output_type": "stream",
          "text": [
            "bpe_symbols: -0.9194372071242507\n",
            "num_layers: 0.9660774641727214\n",
            "num_embed: -5.567224028777085\n",
            "transformer_feed_forward_num_hidden: 0.6001064513132677\n",
            "transformer_attention_heads: -0.7266737963222618\n",
            "initial_learning_rate: -5.3943864197813465\n"
          ],
          "name": "stdout"
        }
      ]
    },
    {
      "cell_type": "code",
      "metadata": {
        "id": "obEoL3Eij7nS"
      },
      "source": [
        "# Develop a more accurate gradient boosting model\n",
        "from xgboost import XGBRegressor\n",
        "model = XGBRegressor(n_estimators=1000, learning_rate=0.05, n_jobs=4, random_state=1)\n",
        "model.fit(train_X, train_y)\n",
        "\n",
        "xgb_pred_y = model.predict(val_X)"
      ],
      "execution_count": null,
      "outputs": []
    },
    {
      "cell_type": "code",
      "metadata": {
        "colab": {
          "base_uri": "https://localhost:8080/"
        },
        "id": "knnjwmrjIf2k",
        "outputId": "7891af6d-c1fb-4212-840d-41ec7ec122e5"
      },
      "source": [
        "mse = metrics.mean_squared_error(val_y, xgb_pred_y)\n",
        "mse"
      ],
      "execution_count": null,
      "outputs": [
        {
          "output_type": "execute_result",
          "data": {
            "text/plain": [
              "6.215114447848672"
            ]
          },
          "metadata": {
            "tags": []
          },
          "execution_count": 38
        }
      ]
    },
    {
      "cell_type": "code",
      "metadata": {
        "id": "mdbync9yQUfA"
      },
      "source": [
        "!pip install eli5"
      ],
      "execution_count": null,
      "outputs": []
    },
    {
      "cell_type": "code",
      "metadata": {
        "colab": {
          "base_uri": "https://localhost:8080/",
          "height": 134
        },
        "id": "bya9i4r_QKvx",
        "outputId": "02b2945d-31e0-4e5d-ccbd-96b797d6a2a7"
      },
      "source": [
        "import eli5\n",
        "from eli5.sklearn import PermutationImportance\n",
        "\n",
        "perm = PermutationImportance(model, random_state=1).fit(val_X, val_y)\n",
        "eli5.show_weights(perm, feature_names = hyps)"
      ],
      "execution_count": null,
      "outputs": [
        {
          "output_type": "execute_result",
          "data": {
            "text/html": [
              "\n",
              "    <style>\n",
              "    table.eli5-weights tr:hover {\n",
              "        filter: brightness(85%);\n",
              "    }\n",
              "</style>\n",
              "\n",
              "\n",
              "\n",
              "    \n",
              "\n",
              "    \n",
              "\n",
              "    \n",
              "\n",
              "    \n",
              "\n",
              "    \n",
              "\n",
              "    \n",
              "\n",
              "\n",
              "    \n",
              "\n",
              "    \n",
              "\n",
              "    \n",
              "\n",
              "    \n",
              "\n",
              "    \n",
              "\n",
              "    \n",
              "\n",
              "\n",
              "    \n",
              "\n",
              "    \n",
              "\n",
              "    \n",
              "\n",
              "    \n",
              "\n",
              "    \n",
              "        <table class=\"eli5-weights eli5-feature-importances\" style=\"border-collapse: collapse; border: none; margin-top: 0em; table-layout: auto;\">\n",
              "    <thead>\n",
              "    <tr style=\"border: none;\">\n",
              "        <th style=\"padding: 0 1em 0 0.5em; text-align: right; border: none;\">Weight</th>\n",
              "        <th style=\"padding: 0 0.5em 0 0.5em; text-align: left; border: none;\">Feature</th>\n",
              "    </tr>\n",
              "    </thead>\n",
              "    <tbody>\n",
              "    \n",
              "        <tr style=\"background-color: hsl(120, 100.00%, 80.00%); border: none;\">\n",
              "            <td style=\"padding: 0 1em 0 0.5em; text-align: right; border: none;\">\n",
              "                1.1433\n",
              "                \n",
              "                    &plusmn; 0.5127\n",
              "                \n",
              "            </td>\n",
              "            <td style=\"padding: 0 0.5em 0 0.5em; text-align: left; border: none;\">\n",
              "                num_embed\n",
              "            </td>\n",
              "        </tr>\n",
              "    \n",
              "        <tr style=\"background-color: hsl(120, 100.00%, 82.20%); border: none;\">\n",
              "            <td style=\"padding: 0 1em 0 0.5em; text-align: right; border: none;\">\n",
              "                0.9679\n",
              "                \n",
              "                    &plusmn; 0.5592\n",
              "                \n",
              "            </td>\n",
              "            <td style=\"padding: 0 0.5em 0 0.5em; text-align: left; border: none;\">\n",
              "                initial_learning_rate\n",
              "            </td>\n",
              "        </tr>\n",
              "    \n",
              "        <tr style=\"background-color: hsl(120, 100.00%, 91.41%); border: none;\">\n",
              "            <td style=\"padding: 0 1em 0 0.5em; text-align: right; border: none;\">\n",
              "                0.3418\n",
              "                \n",
              "                    &plusmn; 0.4232\n",
              "                \n",
              "            </td>\n",
              "            <td style=\"padding: 0 0.5em 0 0.5em; text-align: left; border: none;\">\n",
              "                num_layers\n",
              "            </td>\n",
              "        </tr>\n",
              "    \n",
              "        <tr style=\"background-color: hsl(120, 100.00%, 94.86%); border: none;\">\n",
              "            <td style=\"padding: 0 1em 0 0.5em; text-align: right; border: none;\">\n",
              "                0.1643\n",
              "                \n",
              "                    &plusmn; 0.1647\n",
              "                \n",
              "            </td>\n",
              "            <td style=\"padding: 0 0.5em 0 0.5em; text-align: left; border: none;\">\n",
              "                bpe_symbols\n",
              "            </td>\n",
              "        </tr>\n",
              "    \n",
              "        <tr style=\"background-color: hsl(120, 100.00%, 97.04%); border: none;\">\n",
              "            <td style=\"padding: 0 1em 0 0.5em; text-align: right; border: none;\">\n",
              "                0.0748\n",
              "                \n",
              "                    &plusmn; 0.0853\n",
              "                \n",
              "            </td>\n",
              "            <td style=\"padding: 0 0.5em 0 0.5em; text-align: left; border: none;\">\n",
              "                transformer_attention_heads\n",
              "            </td>\n",
              "        </tr>\n",
              "    \n",
              "        <tr style=\"background-color: hsl(0, 100.00%, 98.22%); border: none;\">\n",
              "            <td style=\"padding: 0 1em 0 0.5em; text-align: right; border: none;\">\n",
              "                -0.0361\n",
              "                \n",
              "                    &plusmn; 0.0460\n",
              "                \n",
              "            </td>\n",
              "            <td style=\"padding: 0 0.5em 0 0.5em; text-align: left; border: none;\">\n",
              "                transformer_feed_forward_num_hidden\n",
              "            </td>\n",
              "        </tr>\n",
              "    \n",
              "    \n",
              "    </tbody>\n",
              "</table>\n",
              "    \n",
              "\n",
              "    \n",
              "\n",
              "\n",
              "    \n",
              "\n",
              "    \n",
              "\n",
              "    \n",
              "\n",
              "    \n",
              "\n",
              "    \n",
              "\n",
              "    \n",
              "\n",
              "\n",
              "\n"
            ],
            "text/plain": [
              "<IPython.core.display.HTML object>"
            ]
          },
          "metadata": {
            "tags": []
          },
          "execution_count": 51
        }
      ]
    },
    {
      "cell_type": "markdown",
      "metadata": {
        "id": "GGLAzHEZSzQH"
      },
      "source": [
        "(Sorry about the poor color contrast)\n",
        "\n",
        "As the table shows, the features are ranked in the same order as that given by the weights in the linear model."
      ]
    }
  ]
}