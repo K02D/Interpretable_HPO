{
  "nbformat": 4,
  "nbformat_minor": 0,
  "metadata": {
    "colab": {
      "name": "HPO Interpretable ML k-fold .ipynb",
      "provenance": [],
      "collapsed_sections": [],
      "authorship_tag": "ABX9TyPWgR6nZ4SiEIqXOW9JCWFJ",
      "include_colab_link": true
    },
    "kernelspec": {
      "name": "python3",
      "display_name": "Python 3"
    },
    "language_info": {
      "name": "python"
    }
  },
  "cells": [
    {
      "cell_type": "markdown",
      "metadata": {
        "id": "view-in-github",
        "colab_type": "text"
      },
      "source": [
        "<a href=\"https://colab.research.google.com/github/K02D/Interpretable_HPO/blob/main/HPO_Interpretable_ML_k_fold_.ipynb\" target=\"_parent\"><img src=\"https://colab.research.google.com/assets/colab-badge.svg\" alt=\"Open In Colab\"/></a>"
      ]
    },
    {
      "cell_type": "code",
      "metadata": {
        "id": "_uPxMx3RgAzJ"
      },
      "source": [
        "from sklearn import linear_model\n",
        "import numpy as np\n",
        "from sklearn.model_selection import train_test_split \n",
        "import pandas as pd\n",
        "import matplotlib.pyplot as plt\n",
        "import sklearn.metrics as metrics\n",
        "from sklearn.model_selection import RepeatedKFold\n",
        "from sklearn.model_selection import cross_val_score\n",
        "from numpy import mean"
      ],
      "execution_count": 8,
      "outputs": []
    },
    {
      "cell_type": "code",
      "metadata": {
        "id": "rkWKWeEngIOb"
      },
      "source": [
        "# Read data from NMT models trained on an English-to-Japanese corpus\n",
        "hyp_data = pd.read_csv('en-ja.hyps_scaled', delimiter=\"\\t\")\n",
        "eval_data = pd.read_csv('en-ja.evals', delimiter=\"\\t\")"
      ],
      "execution_count": 9,
      "outputs": []
    },
    {
      "cell_type": "code",
      "metadata": {
        "id": "txdlD_QggKb7"
      },
      "source": [
        "# Select scaled hyperparameter configurations as the input features\n",
        "X = hyp_data\n",
        "\n",
        "# Select first column of evaluation data, having dev_bleu values, as the target\n",
        "y = eval_data[eval_data.columns[0]]"
      ],
      "execution_count": 10,
      "outputs": []
    },
    {
      "cell_type": "code",
      "metadata": {
        "id": "sgXXwp8hgl6V"
      },
      "source": [
        "# Check if number of rows is the same in target and input data\n",
        "print(X)\n",
        "print(y)"
      ],
      "execution_count": null,
      "outputs": []
    },
    {
      "cell_type": "code",
      "metadata": {
        "id": "gEHyq3aqFs94"
      },
      "source": [
        "cv = RepeatedKFold(n_splits=10, n_repeats=20, random_state=1)"
      ],
      "execution_count": 11,
      "outputs": []
    },
    {
      "cell_type": "code",
      "metadata": {
        "id": "Icat0FcpgPMK",
        "colab": {
          "base_uri": "https://localhost:8080/"
        },
        "outputId": "1c04d3e5-9a26-45e7-ab3e-360c3dd6545b"
      },
      "source": [
        "# Fit multiple linear regression model on training data\n",
        "reg = linear_model.LinearRegression()\n",
        "scores = cross_val_score(reg, X, y, scoring='neg_mean_squared_error', cv=cv, n_jobs=-1)\n",
        "print(f'MSE: {mean(scores)}')"
      ],
      "execution_count": 12,
      "outputs": [
        {
          "output_type": "stream",
          "text": [
            "MSE: -16.847207078895828\n"
          ],
          "name": "stdout"
        }
      ]
    },
    {
      "cell_type": "markdown",
      "metadata": {
        "id": "PZH4CACmakXv"
      },
      "source": [
        "MSE is made negative since sklearn follows the convention that higher return values should be better than lower return values for each scoring metric."
      ]
    }
  ]
}