{
  "nbformat": 4,
  "nbformat_minor": 0,
  "metadata": {
    "colab": {
      "name": "HPO Interpretable ML k-fold .ipynb",
      "provenance": [],
      "collapsed_sections": [],
      "authorship_tag": "ABX9TyOnTWjX339txi15rKvqIHh7",
      "include_colab_link": true
    },
    "kernelspec": {
      "name": "python3",
      "display_name": "Python 3"
    },
    "language_info": {
      "name": "python"
    }
  },
  "cells": [
    {
      "cell_type": "markdown",
      "metadata": {
        "id": "view-in-github",
        "colab_type": "text"
      },
      "source": [
        "<a href=\"https://colab.research.google.com/github/K02D/Interpretable_HPO/blob/main/HPO_Interpretable_ML_k_fold_.ipynb\" target=\"_parent\"><img src=\"https://colab.research.google.com/assets/colab-badge.svg\" alt=\"Open In Colab\"/></a>"
      ]
    },
    {
      "cell_type": "code",
      "metadata": {
        "id": "_uPxMx3RgAzJ"
      },
      "source": [
        "from sklearn import linear_model\n",
        "from sklearn.model_selection import train_test_split \n",
        "import pandas as pd\n",
        "import sklearn.metrics as metrics\n",
        "from sklearn.model_selection import KFold\n",
        "from numpy import mean"
      ],
      "execution_count": 20,
      "outputs": []
    },
    {
      "cell_type": "code",
      "metadata": {
        "id": "rkWKWeEngIOb"
      },
      "source": [
        "# Read data from NMT models trained on an English-to-Japanese corpus\n",
        "hyp_data = pd.read_csv('en-ja.hyps_scaled', delimiter=\"\\t\")\n",
        "eval_data = pd.read_csv('en-ja.evals', delimiter=\"\\t\")"
      ],
      "execution_count": 21,
      "outputs": []
    },
    {
      "cell_type": "code",
      "metadata": {
        "id": "txdlD_QggKb7"
      },
      "source": [
        "# Select scaled hyperparameter configurations as the input features\n",
        "X = hyp_data\n",
        "\n",
        "# Select first column of evaluation data, having dev_bleu values, as the target\n",
        "y = eval_data[eval_data.columns[0]]"
      ],
      "execution_count": 22,
      "outputs": []
    },
    {
      "cell_type": "code",
      "metadata": {
        "colab": {
          "base_uri": "https://localhost:8080/"
        },
        "id": "n3siY79THz_c",
        "outputId": "1c7a13df-f8e4-40a9-895b-e79229a38f47"
      },
      "source": [
        "# Carry out k-fold cross validation to see how much MSE varies\n",
        "kf = KFold(n_splits=10)\n",
        "MSEs = []\n",
        "for train_index, val_index in kf.split(X):\n",
        "  X_train, X_val = X.iloc[train_index], X.iloc[val_index]\n",
        "  y_train, y_val = y[train_index], y[val_index]\n",
        "\n",
        "\n",
        "  reg.fit(X_train, y_train)\n",
        "  pred_y = reg.predict(X_val) \n",
        "  mse = metrics.mean_squared_error(y_val, pred_y)\n",
        "  MSEs.append(mse)\n",
        "  print(\"Mean Squared Error: \", mse)\n",
        "print(\"Mean: \", mean(MSEs))"
      ],
      "execution_count": 42,
      "outputs": [
        {
          "output_type": "stream",
          "text": [
            "Mean Squared Error:  13.802389027592973\n",
            "Mean Squared Error:  20.34405265873435\n",
            "Mean Squared Error:  24.463774152640934\n",
            "Mean Squared Error:  13.345510237377146\n",
            "Mean Squared Error:  12.138773001543651\n",
            "Mean Squared Error:  27.154411066173317\n",
            "Mean Squared Error:  20.309350000263727\n",
            "Mean Squared Error:  21.1836326764074\n",
            "Mean Squared Error:  8.486793936958515\n",
            "Mean Squared Error:  11.107469862321079\n",
            "Mean:  17.233615662001306\n"
          ],
          "name": "stdout"
        }
      ]
    }
  ]
}